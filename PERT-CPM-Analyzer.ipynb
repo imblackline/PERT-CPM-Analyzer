{
 "cells": [
  {
   "cell_type": "code",
   "execution_count": 1,
   "metadata": {},
   "outputs": [
    {
     "ename": "ModuleNotFoundError",
     "evalue": "No module named 'pandas'",
     "output_type": "error",
     "traceback": [
      "\u001b[1;31m---------------------------------------------------------------------------\u001b[0m",
      "\u001b[1;31mModuleNotFoundError\u001b[0m                       Traceback (most recent call last)",
      "Cell \u001b[1;32mIn[1], line 1\u001b[0m\n\u001b[1;32m----> 1\u001b[0m \u001b[38;5;28;01mimport\u001b[39;00m \u001b[38;5;21;01mpandas\u001b[39;00m \u001b[38;5;28;01mas\u001b[39;00m \u001b[38;5;21;01mpd\u001b[39;00m\n\u001b[0;32m      2\u001b[0m \u001b[38;5;28;01mimport\u001b[39;00m \u001b[38;5;21;01mnetworkx\u001b[39;00m \u001b[38;5;28;01mas\u001b[39;00m \u001b[38;5;21;01mnx\u001b[39;00m\n\u001b[0;32m      3\u001b[0m \u001b[38;5;28;01mimport\u001b[39;00m \u001b[38;5;21;01mmatplotlib\u001b[39;00m\u001b[38;5;21;01m.\u001b[39;00m\u001b[38;5;21;01mpyplot\u001b[39;00m \u001b[38;5;28;01mas\u001b[39;00m \u001b[38;5;21;01mplt\u001b[39;00m\n",
      "\u001b[1;31mModuleNotFoundError\u001b[0m: No module named 'pandas'"
     ]
    }
   ],
   "source": [
    "import pandas as pd\n",
    "import networkx as nx\n",
    "import matplotlib.pyplot as plt\n",
    "from scipy.stats import norm\n",
    "import math\n"
   ]
  },
  {
   "cell_type": "code",
   "execution_count": null,
   "metadata": {},
   "outputs": [],
   "source": [
    "# Load dataset\n",
    "# Replace 'your_dataset.csv' with the actual path to the dataset\n",
    "df = pd.read_csv('your_dataset.csv')\n",
    "\n",
    "# Display the first few rows of the dataset\n",
    "print(df.head())\n"
   ]
  },
  {
   "cell_type": "code",
   "execution_count": null,
   "metadata": {},
   "outputs": [],
   "source": [
    "# Extract tasks, durations, and dependencies\n",
    "# Assuming the dataset has columns: 'Task', 'Duration', 'Predecessors'\n",
    "tasks = df['Task'].tolist()\n",
    "durations = df['Duration'].tolist()\n",
    "predecessors = df['Predecessors'].tolist()"
   ]
  },
  {
   "cell_type": "code",
   "execution_count": null,
   "metadata": {},
   "outputs": [],
   "source": [
    "# Create a directed graph\n",
    "G = nx.DiGraph()\n",
    "\n",
    "# Add nodes with durations\n",
    "for task, duration in zip(tasks, durations):\n",
    "    G.add_node(task, duration=duration)"
   ]
  },
  {
   "cell_type": "code",
   "execution_count": null,
   "metadata": {},
   "outputs": [],
   "source": [
    "# Add edges based on dependencies\n",
    "for task, preds in zip(tasks, predecessors):\n",
    "    if pd.notna(preds):\n",
    "        for pred in preds.split(','):\n",
    "            G.add_edge(pred.strip(), task)"
   ]
  },
  {
   "cell_type": "code",
   "execution_count": null,
   "metadata": {},
   "outputs": [],
   "source": [
    "# CPM Analysis\n",
    "# Calculate earliest start (ES) and finish (EF) times\n",
    "for node in nx.topological_sort(G):\n",
    "    es = max((G.nodes[pred]['EF'] for pred in G.predecessors(node)), default=0)\n",
    "    ef = es + G.nodes[node]['duration']\n",
    "    G.nodes[node]['ES'] = es\n",
    "    G.nodes[node]['EF'] = ef"
   ]
  },
  {
   "cell_type": "code",
   "execution_count": null,
   "metadata": {},
   "outputs": [],
   "source": [
    "# Calculate latest start (LS) and finish (LF) times\n",
    "for node in reversed(list(nx.topological_sort(G))):\n",
    "    lf = min((G.nodes[succ]['LS'] for succ in G.successors(node)), default=G.nodes[node]['EF'])\n",
    "    ls = lf - G.nodes[node]['duration']\n",
    "    G.nodes[node]['LF'] = lf\n",
    "    G.nodes[node]['LS'] = ls"
   ]
  },
  {
   "cell_type": "code",
   "execution_count": null,
   "metadata": {},
   "outputs": [],
   "source": [
    "\n",
    "# Identify critical path\n",
    "critical_path = [node for node in G.nodes if G.nodes[node]['EF'] == G.nodes[node]['LF']]\n",
    "print(\"Critical Path:\", \" -> \".join(critical_path))"
   ]
  }
 ],
 "metadata": {
  "kernelspec": {
   "display_name": ".venv",
   "language": "python",
   "name": "python3"
  },
  "language_info": {
   "codemirror_mode": {
    "name": "ipython",
    "version": 3
   },
   "file_extension": ".py",
   "mimetype": "text/x-python",
   "name": "python",
   "nbconvert_exporter": "python",
   "pygments_lexer": "ipython3",
   "version": "3.13.1"
  }
 },
 "nbformat": 4,
 "nbformat_minor": 2
}
